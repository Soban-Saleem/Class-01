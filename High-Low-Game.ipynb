{
 "cells": [
  {
   "cell_type": "markdown",
   "metadata": {},
   "source": [
    "# High Low Game\n",
    "\n",
    "## Milestone #1: Generate Random Numbers\n"
   ]
  },
  {
   "cell_type": "markdown",
   "metadata": {},
   "source": [
    "import random     # help us generate random numbers between 1 and 100.\n",
    "\n",
    "#Generate random numbers for player and computer \n",
    "\n",
    "player_number =   random.randint(1, 100)\n",
    "computer_number = random.randint(1, 100)\n",
    "\n",
    "#print numbers for testing \n",
    "\n",
    "print(f\"Your number is {player_number}\")\n",
    "print(f\"Computer's number is (hidden in game) is {computer_number}\")\n"
   ]
  },
  {
   "cell_type": "markdown",
   "metadata": {},
   "source": [
    "## Milestone #2: Get the User Choice\n"
   ]
  },
  {
   "cell_type": "markdown",
   "metadata": {},
   "source": [
    "#Asking player to guess the number is higher or lower \n",
    "\n",
    "guess = input(\"Do you think your number is higher lower than the computer's number?   (Type 'higher' or 'lower' )\") \n"
   ]
  },
  {
   "cell_type": "markdown",
   "metadata": {},
   "source": [
    "## Milestone #3: Write the Game Logic\n"
   ]
  },
  {
   "cell_type": "markdown",
   "metadata": {},
   "source": [
    "# Checking the player's Guess \n",
    "if guess == \"higher\" and player_number > computer_number:\n",
    "    print (\"You were right! The computer's number was\", computer_number)\n",
    "elif guess == \"lower\" and player_number < computer_number:\n",
    "    print (\"You were right! The computer's number was\", computer_number)\n",
    "else:\n",
    "    print(\"Aww, that's incorrect :( .The computer's number was\", computer_number)\n"
   ]
  },
  {
   "cell_type": "markdown",
   "metadata": {},
   "source": [
    "## Milestone #4: Play Multiple Rounds\n"
   ]
  },
  {
   "cell_type": "markdown",
   "metadata": {},
   "source": [
    "NUM_ROUNDS = 5  # Set the number of rounds\n",
    "\n",
    "for round in range(1, NUM_ROUNDS + 1):\n",
    "    print(f\"Round {round}\")\n",
    "\n",
    "    # Generate random numbers\n",
    "    player_number = random.randint(1, 100)\n",
    "    computer_number = random.randint(1, 100)\n",
    "\n",
    "    # Show the player their number\n",
    "    print(f\"Your number is {player_number}\")\n",
    "\n",
    "    # Ask for their guess\n",
    "    guess = input(\"Do you think your number is higher or lower than the computer's number? (Type 'higher' or 'lower'): \")\n",
    "\n",
    "    # Compare the numbers and check the guess\n",
    "    if guess == \"higher\" and player_number > computer_number:\n",
    "        print(\"You were right! The computer's number was\", computer_number)\n",
    "    elif guess == \"lower\" and player_number < computer_number:\n",
    "        print(\"You were right! The computer's number was\", computer_number)\n",
    "    else:\n",
    "        print(\"Aww, that's incorrect. The computer's number was\", computer_number)\n",
    "\n",
    "    # Add a blank line for separating rounds\n",
    "    print(\"\\n\")\n"
   ]
  },
  {
   "cell_type": "markdown",
   "metadata": {},
   "source": [
    "## Milestone #5: Adding a Points System\n"
   ]
  },
  {
   "cell_type": "markdown",
   "metadata": {},
   "source": [
    "NUM_ROUNDS = 5  # Set the number of rounds\n",
    "score = 0  # Initialize the score\n",
    "\n",
    "for round in range(1, NUM_ROUNDS + 1):\n",
    "    print(f\"Round {round}\")\n",
    "\n",
    "    # Generate random numbers\n",
    "    player_number = random.randint(1, 100)\n",
    "    computer_number = random.randint(1, 100)\n",
    "\n",
    "    # Show the player their number\n",
    "    print(f\"Your number is {player_number}\")\n",
    "\n",
    "    # Ask for their guess\n",
    "    guess = input(\"Do you think your number is higher or lower than the computer's number? (Type 'higher' or 'lower'): \")\n",
    "\n",
    "    # Compare the numbers and check the guess\n",
    "    if guess == \"higher\" and player_number > computer_number:\n",
    "        print(\"You were right! The computer's number was\", computer_number)\n",
    "        score += 1  # Increase the score\n",
    "    elif guess == \"lower\" and player_number < computer_number:\n",
    "        print(\"You were right! The computer's number was\", computer_number)\n",
    "        score += 1  # Increase the score\n",
    "    else:\n",
    "        print(\"Aww, that's incorrect. The computer's number was\", computer_number)\n",
    "\n",
    "    # Show the player's score\n",
    "    print(f\"Your score is now {score}\")\n",
    "\n",
    "    # Add a blank line for separating rounds\n",
    "    print(\"\\n\")\n"
   ]
  },
  {
   "cell_type": "code",
   "execution_count": 8,
   "metadata": {},
   "outputs": [
    {
     "name": "stdout",
     "output_type": "stream",
     "text": [
      "Welcome to the High-Low Game!\n",
      "--------------------------------\n",
      "\n",
      "========== ROUND 1 ==========\n",
      "Your number is 42\n",
      "You were right! The computer's number was 7.\n",
      "Your score is now 1\n",
      "\n",
      "========== ROUND 2 ==========\n",
      "Your number is 94\n",
      "Aww, that's incorrect. The computer's number was 23.\n",
      "Your score is now 1\n",
      "\n",
      "========== ROUND 3 ==========\n",
      "Your number is 49\n",
      "Aww, that's incorrect. The computer's number was 35.\n",
      "Your score is now 1\n",
      "\n",
      "========== ROUND 4 ==========\n",
      "Your number is 42\n",
      "Aww, that's incorrect. The computer's number was 85.\n",
      "Your score is now 1\n",
      "\n",
      "========== ROUND 5 ==========\n",
      "Your number is 93\n",
      "Aww, that's incorrect. The computer's number was 95.\n",
      "Your score is now 1\n",
      "\n",
      "Thanks for playing!\n",
      "Better luck next time!\n"
     ]
    }
   ],
   "source": [
    "# High-Low Game\n",
    "import random\n",
    "\n",
    "# Milestone 4: Create constant for number of rounds\n",
    "\n",
    "NUM_ROUNDS = 5\n",
    "\n",
    "\n",
    "def play_high_low_game():\n",
    "    # Milestone 5: Initialize score variable\n",
    "    score = 0\n",
    "    \n",
    "    print(\"Welcome to the High-Low Game!\")\n",
    "    print(\"--------------------------------\")\n",
    "    \n",
    "    # Milestone 4: Loop through multiple rounds\n",
    "    for round_number in range(1, NUM_ROUNDS + 1):\n",
    "        print(\"\\n\" + \"=\"*10 + f\" ROUND {round_number} \" + \"=\"*10)  # Clear visual separator with round number\n",
    "        \n",
    "        # Milestone 1: Generate random numbers for player and computer\n",
    "        player_number = random.randint(1, 100)\n",
    "        computer_number = random.randint(1, 100)\n",
    "        \n",
    "        # Show player's number\n",
    "        print(f\"Your number is {player_number}\")\n",
    "        \n",
    "        # Milestone 2: Get user's guess (higher or lower)\n",
    "        guess = input(\"Do you think your number is higher or lower than the computer's? (Enter 'higher' or 'lower'): \").strip().lower()\n",
    "        \n",
    "        # Milestone 3: Validate user's input (Extension #1)\n",
    "        while guess not in ['higher', 'lower']:\n",
    "            guess = input(\"Invalid input! Please enter 'higher' or 'lower': \").strip().lower()\n",
    "        \n",
    "        # Milestone 3: Compare numbers and determine if the user is correct\n",
    "        if (guess == 'higher' and player_number > computer_number) or (guess == 'lower' and player_number < computer_number):\n",
    "            print(f\"You were right! The computer's number was {computer_number}.\")\n",
    "            score += 1  # Milestone 5: Update score\n",
    "        elif player_number == computer_number:\n",
    "            print(f\"It's a tie! The computer's number was {computer_number}.\")\n",
    "        else:\n",
    "            print(f\"Aww, that's incorrect. The computer's number was {computer_number}.\")\n",
    "        \n",
    "        # Milestone 5: Display the current score\n",
    "        print(f\"Your score is now {score}\")\n",
    "    \n",
    "    # End of game\n",
    "    print(\"\\nThanks for playing!\")\n",
    "    \n",
    "    # Extension #2: Conditional Ending Messages based on score\n",
    "    if score == NUM_ROUNDS:\n",
    "        print(\"Perfect score! Well done!\")\n",
    "    elif score >= NUM_ROUNDS // 2:\n",
    "        print(\"Good job, you played really well!\")\n",
    "    else:\n",
    "        print(\"Better luck next time!\")\n",
    "\n",
    "# Start the game\n",
    "play_high_low_game()\n"
   ]
  }
 ],
 "metadata": {
  "kernelspec": {
   "display_name": "Python 3",
   "language": "python",
   "name": "python3"
  },
  "language_info": {
   "codemirror_mode": {
    "name": "ipython",
    "version": 3
   },
   "file_extension": ".py",
   "mimetype": "text/x-python",
   "name": "python",
   "nbconvert_exporter": "python",
   "pygments_lexer": "ipython3",
   "version": "3.12.4"
  }
 },
 "nbformat": 4,
 "nbformat_minor": 2
}
