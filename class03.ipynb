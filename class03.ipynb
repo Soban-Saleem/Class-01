{
 "cells": [
  {
   "cell_type": "markdown",
   "metadata": {},
   "source": [
    "Assignment 01\n",
    "~ window vs mac vs linux \n",
    "\n",
    "two phases of variables \n",
    "- Declaration \n",
    "- initialization \n",
    "\n",
    "-explicit\n",
    "-implicit \n",
    "\n",
    "\n",
    "+ works as concatenation if use with string \n",
    "\n",
    "\n"
   ]
  },
  {
   "cell_type": "code",
   "execution_count": 5,
   "metadata": {},
   "outputs": [
    {
     "name": "stdout",
     "output_type": "stream",
     "text": [
      "0.5\n"
     ]
    }
   ],
   "source": [
    "\n",
    "\n",
    "num1 = 5\n",
    "num2 = 10\n",
    "result = float\n",
    "\n",
    "\n",
    "#addition\n",
    "result = num1+num2\n",
    "\n",
    "\n",
    "\n",
    "\n",
    "#subtraction\n",
    "result = num1-num2\n",
    "\n",
    "# multiplication\n",
    "result = num1*num2\n",
    "\n",
    "#division\n",
    "result = num1/num2\n",
    "\n",
    "# Display result\n",
    "print (result)"
   ]
  },
  {
   "cell_type": "code",
   "execution_count": 1,
   "metadata": {},
   "outputs": [
    {
     "name": "stdout",
     "output_type": "stream",
     "text": [
      "world\n",
      "hello world\n"
     ]
    }
   ],
   "source": [
    "print(\"world\")\n",
    "print (\"hello world\")\n"
   ]
  }
 ],
 "metadata": {
  "kernelspec": {
   "display_name": "Python 3",
   "language": "python",
   "name": "python3"
  },
  "language_info": {
   "codemirror_mode": {
    "name": "ipython",
    "version": 3
   },
   "file_extension": ".py",
   "mimetype": "text/x-python",
   "name": "python",
   "nbconvert_exporter": "python",
   "pygments_lexer": "ipython3",
   "version": "3.11.7"
  }
 },
 "nbformat": 4,
 "nbformat_minor": 2
}
