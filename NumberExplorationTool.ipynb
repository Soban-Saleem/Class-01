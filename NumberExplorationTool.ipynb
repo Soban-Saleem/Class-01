{
 "cells": [
  {
   "cell_type": "markdown",
   "metadata": {},
   "source": [
    "# Number Exploration Tool"
   ]
  },
  {
   "cell_type": "code",
   "execution_count": 18,
   "metadata": {},
   "outputs": [
    {
     "name": "stdout",
     "output_type": "stream",
     "text": [
      "Hello hamdan ! Let's explore your favorite numbers. \n",
      "\n",
      " Here are your numbers whether they are even or odd: \n",
      "Number 2 is : even\n",
      "Number 3 is : odd\n",
      "Number 4 is : even\n",
      "The square of 4 is 16\n",
      "The sum of your numbers is = 9, Thats a great Total!\n",
      "The sum isn't a prime number, but it's still cool!\n",
      "\n",
      "Thanks for exploring numbers with me, hamdan!\n"
     ]
    }
   ],
   "source": [
    "#Collecting User Input \n",
    "\n",
    "name = input(\"Enter your Name: \")\n",
    "print (f\"Hello {name} ! Let's explore your favorite numbers. \")\n",
    "\n",
    "#Asking User to enter three numbers\n",
    "numbers = []\n",
    "for i in range(1, 4):\n",
    "    num = int(input(f\"Enter your favorite number {i}: \"))\n",
    "    numbers.append(num)\n",
    "\n",
    "# Checking if the number is even or odd \n",
    "  \n",
    "even_odd_list = []\n",
    "for num in numbers:\n",
    "    if num % 2 == 0:\n",
    "        even_odd_list.append((num, \"even\"))\n",
    "    else:\n",
    "        even_odd_list.append((num, \"odd\"))    \n",
    "\n",
    "# Displaying even or odd status \n",
    "print (\"\\n Here are your numbers whether they are even or odd: \")\n",
    "for num, status in even_odd_list:\n",
    "    print(f\"Number {num} is : {status}\")    \n",
    "\n",
    "# Square of each number \n",
    "\n",
    "squares = []\n",
    "for num in numbers:\n",
    "    square = num ** 2 \n",
    "    squares.append((num, square))\n",
    "print (f\"The square of {num} is {square}\")\n",
    "\n",
    "# Displaying the Sum of Numbers \n",
    "\n",
    "sum = numbers[0] + numbers[1] + numbers[2]\n",
    "print (f\"The sum of your numbers is = {sum}, Thats a great Total!\")\n",
    "\n",
    "# Checking if the sum is prime number \n",
    "\n",
    "prime = True\n",
    "if sum <= 1:\n",
    "    prime = False\n",
    "else:\n",
    "    for i in range(2 , sum):\n",
    "        if sum % i == 0:\n",
    "            prime = False\n",
    "            break\n",
    "\n",
    "if prime:\n",
    "    print(\"And guess what? The sum is a prime number! Awesome!\")\n",
    "else:\n",
    "    print(\"The sum isn't a prime number, but it's still cool!\")\n",
    "    \n",
    "print(f\"\\nThanks for exploring numbers with me, {name}!\")\n",
    "\n"
   ]
  }
 ],
 "metadata": {
  "kernelspec": {
   "display_name": "Python 3",
   "language": "python",
   "name": "python3"
  },
  "language_info": {
   "codemirror_mode": {
    "name": "ipython",
    "version": 3
   },
   "file_extension": ".py",
   "mimetype": "text/x-python",
   "name": "python",
   "nbconvert_exporter": "python",
   "pygments_lexer": "ipython3",
   "version": "3.12.4"
  }
 },
 "nbformat": 4,
 "nbformat_minor": 2
}
