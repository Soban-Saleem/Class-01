{
 "cells": [
  {
   "cell_type": "markdown",
   "metadata": {},
   "source": [
    "# Calculator using functions\n",
    "\n",
    " ## Functions"
   ]
  },
  {
   "cell_type": "code",
   "execution_count": 4,
   "metadata": {},
   "outputs": [],
   "source": [
    "# Addition Function \n",
    "\n",
    "def add(num1, num2):           #def is used to define a function \n",
    "    return num1 + num2         #add(num1, num2):means the function takes two numbers num1 and num2 as input.     \n",
    "                               #return num1 + num2 returns the result of adding these two numbers\n",
    "\n",
    "# Subtraction Function \n",
    "\n",
    "def subtract(num1, num2): \n",
    "    return num1 - num2\n",
    "\n",
    "# Multiplication Function\n",
    "\n",
    "def multiply(num1, num2): \n",
    "    return num1 * num2\n",
    "\n",
    "# Division Function  (includes zero-division validation)\n",
    "\n",
    "def divide(num1, num2):\n",
    "    if num2 == 0:                               #if num2 == 0: checks if the second number is zero. \n",
    "        return \"Error! division by zero\"        # If it is, we return an error message.      \n",
    "    else:\n",
    "        return num1 / num2                      # Otherwise, we return the result of num1 / num2.\n",
    "    \n",
    "\n",
    "    \n",
    "        \n",
    "\n"
   ]
  },
  {
   "cell_type": "markdown",
   "metadata": {},
   "source": [
    "## Taking User Input"
   ]
  },
  {
   "cell_type": "code",
   "execution_count": 5,
   "metadata": {},
   "outputs": [],
   "source": [
    "# Taking input from the user\n",
    "\n",
    "num1 = float(input(\"Enter the first number :\")) #converts it to a decimal number using float(), and stores it in num1\n",
    "num2 = float(input(\"Enter the second number\"))\n",
    "\n",
    "operation = input (\"Enter the operation: (+, -, *, /):  \")"
   ]
  },
  {
   "cell_type": "markdown",
   "metadata": {},
   "source": [
    "## Perform the Operation"
   ]
  },
  {
   "cell_type": "code",
   "execution_count": 6,
   "metadata": {},
   "outputs": [
    {
     "name": "stdout",
     "output_type": "stream",
     "text": [
      "The Result is: 0.0\n"
     ]
    }
   ],
   "source": [
    "# Performing the corresponding operation\n",
    "\n",
    "if operation == \"+\":\n",
    "    result = add(num1, num2)\n",
    "\n",
    "elif operation == \"-\":\n",
    "    result = subtract(num1, num2)\n",
    "\n",
    "elif operation == \"*\":\n",
    "    result = multiply(num1, num2)\n",
    "\n",
    "elif operation == \" /\":\n",
    "    result = divide(num1, num2)    \n",
    "\n",
    "else :\n",
    "    result = \"Invalid operation\"       \n",
    "\n",
    "\n",
    "# Displaying the result \n",
    "\n",
    "print (f\"The Result is: {result}\")   "
   ]
  },
  {
   "cell_type": "code",
   "execution_count": null,
   "metadata": {},
   "outputs": [],
   "source": []
  }
 ],
 "metadata": {
  "kernelspec": {
   "display_name": "Python 3",
   "language": "python",
   "name": "python3"
  },
  "language_info": {
   "codemirror_mode": {
    "name": "ipython",
    "version": 3
   },
   "file_extension": ".py",
   "mimetype": "text/x-python",
   "name": "python",
   "nbconvert_exporter": "python",
   "pygments_lexer": "ipython3",
   "version": "3.12.4"
  }
 },
 "nbformat": 4,
 "nbformat_minor": 2
}
