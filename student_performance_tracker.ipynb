{
 "cells": [
  {
   "cell_type": "markdown",
   "metadata": {},
   "source": [
    "# Student Class "
   ]
  },
  {
   "cell_type": "code",
   "execution_count": null,
   "metadata": {},
   "outputs": [],
   "source": [
    "class Student:\n",
    "    def __init__(self, name, scores):\n",
    "        self.name = name            \n",
    "        self.scores = scores        \n",
    "\n",
    "    def calculate_average(self):\n",
    "        # Calculate the average score of the student\n",
    "        if len(self.scores) == 0:\n",
    "            return 0\n",
    "        return sum(self.scores) / len(self.scores)\n",
    "\n",
    "    def is_passing(self):\n",
    "        # Check if all scores are above the passing threshold (e.g., 40)\n",
    "        passing_threshold = 40\n",
    "        return all(score >= passing_threshold for score in self.scores)\n"
   ]
  },
  {
   "cell_type": "markdown",
   "metadata": {},
   "source": [
    "## Performance Tracker class "
   ]
  },
  {
   "cell_type": "code",
   "execution_count": 16,
   "metadata": {},
   "outputs": [],
   "source": [
    "class PerformanceTracker:\n",
    "    def __init__(self):\n",
    "        self.students = {}  # Dictionary to store Student objects with student names as keys\n",
    "\n",
    "    def add_student(self, name, scores):\n",
    "        # Add a new student to the tracker\n",
    "        self.students[name] = Student(name, scores)\n",
    "\n",
    "    def calculate_class_average(self):\n",
    "        # Calculate the average score of the entire class\n",
    "        if len(self.students) == 0:\n",
    "            return 0\n",
    "        total_average = sum(student.calculate_average() for student in self.students.values())\n",
    "        return total_average / len(self.students)\n",
    "\n",
    "    def display_student_performance(self):\n",
    "        # Display each student's performance\n",
    "        for name, student in self.students.items():\n",
    "            average = student.calculate_average()\n",
    "            status = \"Passing\" if student.is_passing() else \"Needs Improvement\"\n",
    "            print(f\"Student: {name}, Average Score: {average:.2f}, Status: {status}\")\n"
   ]
  },
  {
   "cell_type": "markdown",
   "metadata": {},
   "source": [
    "## Input Handeling"
   ]
  },
  {
   "cell_type": "code",
   "execution_count": 17,
   "metadata": {},
   "outputs": [],
   "source": [
    "def get_student_data():\n",
    "    name = input(\"Enter student's name: \")\n",
    "    scores = []\n",
    "    subjects = [\"Math\", \"Science\", \"English\"]\n",
    "    for subject in subjects:\n",
    "        while True:\n",
    "            try:\n",
    "                score = int(input(f\"Enter {subject} score for {name}: \"))\n",
    "                if score < 0 or score > 100:         # Ensure the score is in a valid range\n",
    "                    print(\"Score should be between 0 and 100. Please try again.\")\n",
    "                    continue\n",
    "                scores.append(score)\n",
    "                break\n",
    "            except ValueError:\n",
    "                print(\"Invalid input. Please enter a numeric value.\")\n",
    "    return name, scores\n"
   ]
  },
  {
   "cell_type": "markdown",
   "metadata": {},
   "source": [
    "## Tie Everything together"
   ]
  },
  {
   "cell_type": "code",
   "execution_count": 18,
   "metadata": {},
   "outputs": [
    {
     "name": "stdout",
     "output_type": "stream",
     "text": [
      "\n",
      "--- Student Performance ---\n",
      "Student: taimoor, Average Score: 61.67, Status: Needs Improvement\n",
      "Student: khizer, Average Score: 73.00, Status: Passing\n",
      "Student: ahmad, Average Score: 81.33, Status: Passing\n",
      "\n",
      "Class Average: 72.00\n"
     ]
    }
   ],
   "source": [
    "def main():\n",
    "    tracker = PerformanceTracker()\n",
    "    \n",
    "    while True:\n",
    "        # Get student data and add to the tracker\n",
    "        name, scores = get_student_data()\n",
    "        tracker.add_student(name, scores)\n",
    "        \n",
    "        # Ask if the teacher wants to add another student\n",
    "        more = input(\"Would you like to add another student? (yes/no): \").strip().lower()\n",
    "        if more != 'yes':\n",
    "            break\n",
    "\n",
    "    # Display each student's performance and the class average\n",
    "    print(\"\\n--- Student Performance ---\")\n",
    "    tracker.display_student_performance()\n",
    "    \n",
    "    # Display class average\n",
    "    class_average = tracker.calculate_class_average()\n",
    "    print(f\"\\nClass Average: {class_average:.2f}\")\n",
    "\n",
    "if __name__ == \"__main__\":\n",
    "    main()\n"
   ]
  }
 ],
 "metadata": {
  "kernelspec": {
   "display_name": "Python 3",
   "language": "python",
   "name": "python3"
  },
  "language_info": {
   "codemirror_mode": {
    "name": "ipython",
    "version": 3
   },
   "file_extension": ".py",
   "mimetype": "text/x-python",
   "name": "python",
   "nbconvert_exporter": "python",
   "pygments_lexer": "ipython3",
   "version": "3.12.4"
  }
 },
 "nbformat": 4,
 "nbformat_minor": 2
}
