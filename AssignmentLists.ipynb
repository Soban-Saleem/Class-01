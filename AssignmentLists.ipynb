{
 "cells": [
  {
   "cell_type": "markdown",
   "metadata": {},
   "source": [
    "# Exercise 3-1: Names\n",
    "\n"
   ]
  },
  {
   "cell_type": "code",
   "execution_count": 1,
   "metadata": {},
   "outputs": [],
   "source": [
    "# List of Names \n",
    "names = [\"Berlin\", \"Tokyo\" , \"Denver\" , \"Nairobi\", \"Rio\" ]"
   ]
  },
  {
   "cell_type": "code",
   "execution_count": 4,
   "metadata": {},
   "outputs": [
    {
     "name": "stdout",
     "output_type": "stream",
     "text": [
      "Berlin\n",
      "Tokyo\n",
      "Denver\n",
      "Nairobi\n",
      "Rio\n"
     ]
    }
   ],
   "source": [
    "# Print the names\n",
    "print (names [0]) #Berlin\n",
    "print (names [1]) #Tokyo\n",
    "print (names [2]) #Denver\n",
    "print (names [3]) #Nairobi\n",
    "print (names [4]) #Rio"
   ]
  },
  {
   "cell_type": "markdown",
   "metadata": {},
   "source": [
    "# Exercise 3-2: Greetings"
   ]
  },
  {
   "cell_type": "code",
   "execution_count": null,
   "metadata": {},
   "outputs": [],
   "source": [
    "# List of names\n",
    "names = [\"Berlin\", \"Tokyo\" , \"Denver\" , \"Nairobi\", \"Rio\" ]"
   ]
  },
  {
   "cell_type": "code",
   "execution_count": 7,
   "metadata": {},
   "outputs": [
    {
     "name": "stdout",
     "output_type": "stream",
     "text": [
      "Hello, Berlin! How are you? \n",
      "Hello, Tokyo! How are you? \n",
      "Hello, Denver! How are you? \n",
      "Hello, Nairobi! How are you? \n",
      "Hello, Rio! How are you? \n"
     ]
    }
   ],
   "source": [
    "# Print the names\n",
    "print (f\"Hello, {names[0]}! How are you? \")\n",
    "print (f\"Hello, {names[1]}! How are you? \")\n",
    "print (f\"Hello, {names[2]}! How are you? \")\n",
    "print (f\"Hello, {names[3]}! How are you? \")\n",
    "print (f\"Hello, {names[4]}! How are you? \")\n"
   ]
  },
  {
   "cell_type": "markdown",
   "metadata": {},
   "source": [
    "# Exercise 3-3: Your Own List\n"
   ]
  },
  {
   "cell_type": "code",
   "execution_count": 25,
   "metadata": {},
   "outputs": [
    {
     "name": "stdout",
     "output_type": "stream",
     "text": [
      "I would like to own a Mustang Gt Ford\n",
      "I would like to own a Toyota Supra\n",
      "I would like to own a Sonata\n",
      "I would like to own a Honda motorcycle\n"
     ]
    }
   ],
   "source": [
    "# List of Transportation \n",
    "transportation = [\"Mustang Gt Ford\", \"Toyota Supra\" , \"Sonata\" , \"Honda motorcycle\"]\n",
    "\n",
    "# Print the list of transportation\n",
    "for vehicle in transportation:\n",
    "    print (f\"I would like to own a {vehicle}\")"
   ]
  },
  {
   "cell_type": "markdown",
   "metadata": {},
   "source": [
    "# Exercise 3-4: Guest List\n"
   ]
  },
  {
   "cell_type": "code",
   "execution_count": 26,
   "metadata": {},
   "outputs": [
    {
     "name": "stdout",
     "output_type": "stream",
     "text": [
      "Dear Berlin you are cordially invited to Dinner.\n",
      "Dear Tokyo you are cordially invited to Dinner.\n",
      "Dear Denver you are cordially invited to Dinner.\n"
     ]
    }
   ],
   "source": [
    "# List of Guests\n",
    "guests = [\"Berlin\", \"Tokyo\", \"Denver\" ]\n",
    "\n",
    "#print list of guests\n",
    "for guest in guests:\n",
    "    print (f\"Dear {guest} you are cordially invited to Dinner.\" )\n",
    "\n"
   ]
  },
  {
   "cell_type": "markdown",
   "metadata": {},
   "source": [
    "# Exercise 3-5: Changing Guest List\n"
   ]
  },
  {
   "cell_type": "code",
   "execution_count": 27,
   "metadata": {},
   "outputs": [
    {
     "name": "stdout",
     "output_type": "stream",
     "text": [
      "Unfortunately, Tokyo can't make it to dinner.\n",
      "Dear Berlin you are still invited to dinner.\n",
      "Dear Tokyo you are still invited to dinner.\n",
      "Dear Denver you are still invited to dinner.\n"
     ]
    }
   ],
   "source": [
    "# List of Guests\n",
    "guests = [\"Berlin\", \"Tokyo\", \"Denver\" ]\n",
    "\n",
    "# guests who can't make it\n",
    "print (f\"Unfortunately, {guests[1]} can't make it to dinner.\")\n",
    "\n",
    "# Replacing the guest \n",
    "for guest in guests:\n",
    "    print (f\"Dear {guest} you are still invited to dinner.\")\n"
   ]
  },
  {
   "cell_type": "markdown",
   "metadata": {},
   "source": [
    "# Exercise 3-6: More Guests\n"
   ]
  },
  {
   "cell_type": "code",
   "execution_count": 28,
   "metadata": {},
   "outputs": [
    {
     "name": "stdout",
     "output_type": "stream",
     "text": [
      "Great News! We've found a bigger table\n",
      "Dear Lisbon, you are ivited to expanded dinner. \n",
      "Dear Berlin, you are ivited to expanded dinner. \n",
      "Dear Nairobi, you are ivited to expanded dinner. \n",
      "Dear Tokyo, you are ivited to expanded dinner. \n",
      "Dear Denver, you are ivited to expanded dinner. \n",
      "Dear Hellsinki, you are ivited to expanded dinner. \n"
     ]
    }
   ],
   "source": [
    "# informing that a bigger table has been found\n",
    "print (\"Great News! We've found a bigger table\")\n",
    "\n",
    "# Insert new Guests \n",
    "guests.insert(0, \"Lisbon\") # 0 for beginning\n",
    "guests.insert(2, \"Nairobi\") # 2 for third place \n",
    "guests.append(\"Hellsinki\") # for at the end of the table\n",
    "\n",
    "# update invitaion message \n",
    "for guest in guests:\n",
    "    print(f\"Dear {guest}, you are ivited to expanded dinner. \")\n"
   ]
  },
  {
   "cell_type": "markdown",
   "metadata": {},
   "source": [
    "# Exercise 3-7: Shrinking Guest List\n"
   ]
  },
  {
   "cell_type": "code",
   "execution_count": 35,
   "metadata": {},
   "outputs": [
    {
     "name": "stdout",
     "output_type": "stream",
     "text": [
      "Sorry, I can only invite 2 people to dinner\n",
      "Sorry, Hellsinki, I can't invite you to dinner\n",
      "Sorry, Denver, I can't invite you to dinner\n",
      "Sorry, Tokyo, I can't invite you to dinner\n",
      "Sorry, Nairobi, I can't invite you to dinner\n",
      "['Lisbon', 'Berlin'], you're still invited to dinner!\n",
      "['Lisbon', 'Berlin'], you're still invited to dinner!\n",
      "[]\n"
     ]
    }
   ],
   "source": [
    "# guests list \n",
    "guests = [\"Lisbon\" ,\"Berlin\",\"Nairobi\" ,\"Tokyo\" , \"Denver\",\"Hellsinki\"]\n",
    "\n",
    "#informing only 2 guests Invited \n",
    "print(\"Sorry, I can only invite 2 people to dinner\")\n",
    "\n",
    "#Removing guests one by one by using pop() \n",
    "\n",
    "while len(guests) > 2:\n",
    "    removed_guests = guests.pop()\n",
    "    print(f\"Sorry, {removed_guests}, I can't invite you to dinner\")\n",
    "\n",
    "# Message to remaining guests\n",
    "for guest in guests:\n",
    "    print(f\"{guests}, you're still invited to dinner!\") \n",
    "\n",
    "# Using del to removing guest \n",
    "del guests [0]\n",
    "del guests [0]\n",
    "\n",
    "# print the guest list\n",
    "print (guests)\n",
    "\n",
    "\n",
    "\n",
    "\n"
   ]
  },
  {
   "cell_type": "markdown",
   "metadata": {},
   "source": [
    "# Exercise 3-8: Seeing the World\n"
   ]
  },
  {
   "cell_type": "code",
   "execution_count": 1,
   "metadata": {},
   "outputs": [
    {
     "name": "stdout",
     "output_type": "stream",
     "text": [
      "OriginalOrder :  ['Istanbul', 'Canada', 'UK', 'Spain', 'United States']\n",
      "Alphabetical Order :  ['Canada', 'Istanbul', 'Spain', 'UK', 'United States']\n",
      "Original Order  after sorted(): ['Istanbul', 'Canada', 'UK', 'Spain', 'United States']\n",
      "Reverse Alphabetical Order ['United States', 'UK', 'Spain', 'Istanbul', 'Canada']\n",
      "Original order after reverse , sorted() ['Istanbul', 'Canada', 'UK', 'Spain', 'United States']\n",
      "Order after reverse(): ['United States', 'Spain', 'UK', 'Canada', 'Istanbul']\n",
      "Order after second reverse(): ['Istanbul', 'Canada', 'UK', 'Spain', 'United States']\n",
      "Order after sort(): ['Canada', 'Istanbul', 'Spain', 'UK', 'United States']\n",
      "Order after reverse sort(): ['United States', 'UK', 'Spain', 'Istanbul', 'Canada']\n"
     ]
    }
   ],
   "source": [
    "#List of places \n",
    "\n",
    "places = [\"Istanbul\", \"Canada\", \"UK\", \"Spain\", \"United States\" ]\n",
    "\n",
    "#list in Original Order \n",
    "\n",
    "print (\"OriginalOrder : \" , places )\n",
    "\n",
    "#List in Alphabetical Order by sorted()\n",
    "\n",
    "print (\"Alphabetical Order : \" , sorted(places) )\n",
    "\n",
    "#Original list is Unchanged\n",
    "\n",
    "print (\"Original Order  after sorted():\", places)\n",
    "\n",
    "# In Reverse Alphabetical Order\n",
    "\n",
    "print (\"Reverse Alphabetical Order\" , sorted(places , reverse = True))\n",
    "\n",
    "#Original list is Unchanged after reverse\n",
    "\n",
    "print (\"Original order after reverse , sorted()\", places)\n",
    "\n",
    "# Use reverse() to change the order of the list\n",
    "places.reverse()\n",
    "print(\"Order after reverse():\", places)\n",
    "\n",
    "# Revert list back to its original order\n",
    "places.reverse()\n",
    "print(\"Order after second reverse():\", places)\n",
    "\n",
    "# Use sort() to change the list to alphabetical order\n",
    "places.sort()\n",
    "print(\"Order after sort():\", places)\n",
    "\n",
    "# Use sort() to change the list to reverse alphabetical order\n",
    "places.sort(reverse=True)\n",
    "print(\"Order after reverse sort():\", places)"
   ]
  },
  {
   "cell_type": "markdown",
   "metadata": {},
   "source": [
    "# Exercise 3-9: Every Function\n"
   ]
  },
  {
   "cell_type": "code",
   "execution_count": 7,
   "metadata": {},
   "outputs": [
    {
     "name": "stdout",
     "output_type": "stream",
     "text": [
      "After append : ['Turkey', 'Canada', 'France', 'Germany', 'Australia']\n",
      "After insert at index 2 : ['Turkey', 'Japan', 'Canada', 'France', 'Germany', 'Australia']\n",
      "After remove Australia: ['Turkey', 'Japan', 'Canada', 'France', 'Germany']\n",
      "After delete at index 2: ['Turkey', 'Japan', 'France', 'Germany']\n",
      "After pop: ['Turkey', 'Japan', 'France']\n",
      "Popped country: Germany\n",
      "After reverse: ['France', 'Japan', 'Turkey']\n",
      "After sort: ['France', 'Japan', 'Turkey']\n",
      "After reverse sort: ['Turkey', 'Japan', 'France']\n"
     ]
    }
   ],
   "source": [
    "# List of countries \n",
    "countries = [\"Turkey\", \"Canada\", \"France\", \"Germany\"]\n",
    "\n",
    "# Using Various Functions \n",
    "\n",
    "# APPEND function\n",
    "countries.append(\"Australia\")\n",
    "print (\"After append :\", countries)\n",
    "\n",
    "# INSERT function\n",
    "countries.insert(1,\"Japan\")\n",
    "print (\"After insert at index 2 :\", countries)\n",
    "\n",
    "#REMOVE function\n",
    "countries.remove(\"Australia\")\n",
    "print (\"After remove Australia:\", countries)\n",
    "\n",
    "#DELETE function\n",
    "del countries[2]\n",
    "print (\"After delete at index 2:\", countries)\n",
    "\n",
    "#POP function\n",
    "popped_country = countries.pop()\n",
    "print(\"After pop:\", countries)\n",
    "print(\"Popped country:\", popped_country)\n",
    "\n",
    "#REVERSE function\n",
    "countries.reverse()\n",
    "print(\"After reverse:\", countries)\n",
    "\n",
    "#SORT function\n",
    "countries.sort()\n",
    "print(\"After sort:\", countries)\n",
    "\n",
    "#SORT IN REVERSE function\n",
    "countries.sort(reverse=True)\n",
    "print (\"After reverse sort:\", countries)"
   ]
  },
  {
   "cell_type": "markdown",
   "metadata": {},
   "source": [
    "# Exercise 3-10: Intentional Error\n"
   ]
  },
  {
   "cell_type": "code",
   "execution_count": 8,
   "metadata": {},
   "outputs": [
    {
     "name": "stdout",
     "output_type": "stream",
     "text": [
      "banana\n"
     ]
    }
   ],
   "source": [
    "#List of Items \n",
    "items = [\"apple\", \"orange\", \"banana\" ]\n",
    "\n",
    "#accessing an error that doesn't exist\n",
    "#Uncomment the following line \n",
    "print (items[2 ])  # this will print banana without any error \n",
    "\n"
   ]
  }
 ],
 "metadata": {
  "kernelspec": {
   "display_name": "Python 3",
   "language": "python",
   "name": "python3"
  },
  "language_info": {
   "codemirror_mode": {
    "name": "ipython",
    "version": 3
   },
   "file_extension": ".py",
   "mimetype": "text/x-python",
   "name": "python",
   "nbconvert_exporter": "python",
   "pygments_lexer": "ipython3",
   "version": "3.12.4"
  }
 },
 "nbformat": 4,
 "nbformat_minor": 2
}
