{
 "cells": [
  {
   "cell_type": "markdown",
   "metadata": {},
   "source": [
    "# Exploring Python List Methods"
   ]
  },
  {
   "cell_type": "markdown",
   "metadata": {},
   "source": [
    "##  Append Method\n",
    "\n",
    "The append () method is used to add a single element to the end of a list.\n",
    "\n",
    "Syntax : \n",
    "         list_name.append(element)\n",
    "\n",
    ". Element: the item you want to add to the end of the list     \n",
    "\n",
    "Return Type:\n",
    "\n",
    "Returns None. The method modifies the list in place.\n",
    "\n"
   ]
  },
  {
   "cell_type": "code",
   "execution_count": 3,
   "metadata": {},
   "outputs": [
    {
     "name": "stdout",
     "output_type": "stream",
     "text": [
      "['apple', 'banana', 'cherry', 'orange']\n"
     ]
    }
   ],
   "source": [
    "#Example:\n",
    "\n",
    "fruits = ['apple', 'banana', 'cherry']\n",
    "fruits.append('orange')\n",
    "print(fruits)  \n"
   ]
  },
  {
   "cell_type": "markdown",
   "metadata": {},
   "source": [
    "## Extend Method \n",
    "\n",
    "The extend() method adds all elements of one list (or any iterable) to the end of another list.\n",
    "\n",
    "Syntax :\n",
    "      list_name.extend(iterable)\n",
    "\n",
    ". iterable: the items you wants to add to the list (could be another list, tuple, etc.)     \n",
    "\n",
    "Return Type:\n",
    "\n",
    "Returns None. The method modifies the list in place."
   ]
  },
  {
   "cell_type": "code",
   "execution_count": 4,
   "metadata": {},
   "outputs": [
    {
     "name": "stdout",
     "output_type": "stream",
     "text": [
      "['apple', 'orange', 'banana', 'mango', 'grapes', 'cherry']\n"
     ]
    }
   ],
   "source": [
    "#Example :\n",
    "fruits = ['apple', 'orange', 'banana', 'mango']\n",
    "fruits.extend(['grapes','cherry'])\n",
    "print(fruits)"
   ]
  },
  {
   "cell_type": "markdown",
   "metadata": {},
   "source": [
    "## Insert Method\n",
    "\n",
    "The insert () method is used to add an element at a specific position or index in the list.\n",
    "\n",
    "Syntax:\n",
    "     list_name.insert(index, element)\n",
    "\n",
    ".index : The position in the list where the new element should be inserted.\n",
    "\n",
    "Return Type:\n",
    "\n",
    "Returns None. The method modifies the list in place.\n",
    "\n"
   ]
  },
  {
   "cell_type": "code",
   "execution_count": 6,
   "metadata": {},
   "outputs": [
    {
     "name": "stdout",
     "output_type": "stream",
     "text": [
      "['apple', 'banana', 'orange', 'mango']\n"
     ]
    }
   ],
   "source": [
    "# Example:\n",
    "\n",
    "fruits = ['apple', 'orange', 'mango'] \n",
    "fruits.insert(1, 'banana')\n",
    "print (fruits)"
   ]
  },
  {
   "cell_type": "markdown",
   "metadata": {},
   "source": [
    "## Remove Method\n",
    "\n",
    "The remove() method is used to remove the specific element from the list.\n",
    "\n",
    "Syntax:\n",
    "  list_name.remove(element)\n",
    "\n",
    "Return Type:\n",
    "\n",
    "Returns None. The method modifies the list in place.  "
   ]
  },
  {
   "cell_type": "code",
   "execution_count": 7,
   "metadata": {},
   "outputs": [
    {
     "name": "stdout",
     "output_type": "stream",
     "text": [
      "['orange', 'mango']\n"
     ]
    }
   ],
   "source": [
    "##Example\n",
    "\n",
    "fruits = ['apple', 'orange', 'mango']\n",
    "fruits.remove('apple')\n",
    "print (fruits)"
   ]
  },
  {
   "cell_type": "markdown",
   "metadata": {},
   "source": [
    "## Pop Method\n",
    "\n",
    "The pop() method is used to removes and returns the element at specific index or position from the list, but if there is no index is specified, it removes and return the last item in the list.\n",
    "\n",
    "Syntax:\n",
    "    list_name.pop(index)\n",
    "\n",
    "Return Type:\n",
    "\n",
    "Returns the removed element. If the list is empty or the index is out of range, it raises an IndexError."
   ]
  },
  {
   "cell_type": "code",
   "execution_count": 9,
   "metadata": {},
   "outputs": [
    {
     "name": "stdout",
     "output_type": "stream",
     "text": [
      "['apple', 'banana', 'mango']\n",
      "orange\n"
     ]
    }
   ],
   "source": [
    "#Example:\n",
    "\n",
    "fruits = ['apple', 'orange', 'banana', 'mango']\n",
    "removed_item = fruits.pop(1)\n",
    "print (fruits)\n",
    "print (removed_item)"
   ]
  },
  {
   "cell_type": "markdown",
   "metadata": {},
   "source": [
    "## Clear Method\n",
    "\n",
    "The clear() method is used to remove all the elemets from the list, leaving it empty.\n",
    "\n",
    "Syntax:\n",
    "   list_name.clear()\n",
    "\n",
    "Return Type:\n",
    "\n",
    "Returns None. The method modifies the list in place."
   ]
  },
  {
   "cell_type": "code",
   "execution_count": 10,
   "metadata": {},
   "outputs": [
    {
     "name": "stdout",
     "output_type": "stream",
     "text": [
      "[]\n"
     ]
    }
   ],
   "source": [
    "#Example:\n",
    "\n",
    "fruits = ['apple', 'orange', 'mango']\n",
    "fruits.clear()\n",
    "print(fruits)"
   ]
  },
  {
   "cell_type": "markdown",
   "metadata": {},
   "source": [
    "## Index Method\n",
    "\n",
    "The index() method returns the index of the first occurrence of a specified element in the list. If the element is not found, it raises a ValueError.\n",
    "\n",
    "Syntax: \n",
    "   list_name.index(element, start, end)\n",
    "\n",
    "Return Type:\n",
    "Returns an integer representing the index of the first occurrence of the element."
   ]
  },
  {
   "cell_type": "code",
   "execution_count": 1,
   "metadata": {},
   "outputs": [
    {
     "name": "stdout",
     "output_type": "stream",
     "text": [
      "2\n"
     ]
    }
   ],
   "source": [
    "# Example: \n",
    "\n",
    "fruits = ['apple', 'orange', 'banana', 'mango']\n",
    "index_position = fruits.index('banana')\n",
    "print (index_position)"
   ]
  },
  {
   "cell_type": "markdown",
   "metadata": {},
   "source": [
    "## Count Method \n",
    "\n",
    "The count() method is used to returns the number of times a specific element  appear in the list. \n",
    "\n",
    "Syntax: \n",
    "  list_name.count(element)\n",
    "\n",
    "Return Type:\n",
    "Returns an integer representing the number of times the element appears in the list."
   ]
  },
  {
   "cell_type": "code",
   "execution_count": 3,
   "metadata": {},
   "outputs": [
    {
     "name": "stdout",
     "output_type": "stream",
     "text": [
      "1\n"
     ]
    }
   ],
   "source": [
    "#Example:\n",
    "\n",
    "fruits = ['apple', 'orange', 'banana', 'mango']\n",
    "count_orange = fruits.count('orange')\n",
    "print (count_orange)"
   ]
  },
  {
   "cell_type": "markdown",
   "metadata": {},
   "source": [
    "## SORT Methods:\n",
    "\n",
    "The sort() method is used to sort the elements of a list in ascending order as default, we can modify sort by using 'reverse' order. \n",
    "\n",
    "Syntax: \n",
    "  list_name.sort(key=None, reverse=False)\n",
    "\n",
    "key : A function that serves as a key for the sort comparison.\n",
    "reverse : If True, sorts the list in descending order.\n",
    "\n",
    "Return Type:\n",
    "Returns None. The method modifies the list in place."
   ]
  },
  {
   "cell_type": "code",
   "execution_count": 6,
   "metadata": {},
   "outputs": [
    {
     "name": "stdout",
     "output_type": "stream",
     "text": [
      "['apple', 'cherry', 'mango', 'orange']\n",
      "['orange', 'mango', 'cherry', 'apple']\n"
     ]
    }
   ],
   "source": [
    "#Example:\n",
    "\n",
    "#in ascending order\n",
    "\n",
    "fruits = ['apple', 'orange', 'mango', 'cherry']\n",
    "fruits.sort()\n",
    "print (fruits)\n",
    "\n",
    "#Reverse the list in descending order\n",
    "fruits.sort(reverse=True)\n",
    "print (fruits)"
   ]
  },
  {
   "cell_type": "markdown",
   "metadata": {},
   "source": [
    "## REVERSE Method:\n",
    "\n",
    "The reverse() method is used to reverse the order of elements in the list.\n",
    "\n",
    "Syntax:\n",
    "  list_name.reverse()\n",
    "\n",
    "Return type:\n",
    "Returns None. The method modifies the list in place."
   ]
  },
  {
   "cell_type": "code",
   "execution_count": 7,
   "metadata": {},
   "outputs": [
    {
     "name": "stdout",
     "output_type": "stream",
     "text": [
      "['banana', 'orange', 'apple']\n"
     ]
    }
   ],
   "source": [
    "# Example:\n",
    "fruits = ['apple', 'orange', 'banana']\n",
    "fruits.reverse()\n",
    "print (fruits)"
   ]
  },
  {
   "cell_type": "markdown",
   "metadata": {},
   "source": [
    "## COPY method:\n",
    "\n",
    "The copy () method is used to returns a copy of list, it means it creates a new list with same elements, but changes the new list won't affect the original one.\n",
    "\n",
    "Syntax:\n",
    "  \n",
    "  new_list = list_name.copy()\n",
    "\n",
    "Return Type:\n",
    "\n",
    "Returns a new list that is a shallow copy of the original list."
   ]
  },
  {
   "cell_type": "code",
   "execution_count": 12,
   "metadata": {},
   "outputs": [
    {
     "name": "stdout",
     "output_type": "stream",
     "text": [
      "['apple', 'orange', 'mango', 'banana']\n",
      "['apple', 'orange', 'mango', 'banana']\n",
      "['apple', 'orange', 'mango', 'banana', 'cherry']\n"
     ]
    }
   ],
   "source": [
    "#Example:\n",
    "\n",
    "fruits = ['apple', 'orange', 'mango', 'banana']\n",
    "fruits_copy = fruits.copy()\n",
    "print (fruits)\n",
    "\n",
    "#modifying new list \n",
    "fruits_copy.append('cherry')\n",
    "print (fruits)\n",
    "print (fruits_copy)\n"
   ]
  }
 ],
 "metadata": {
  "kernelspec": {
   "display_name": "Python 3",
   "language": "python",
   "name": "python3"
  },
  "language_info": {
   "codemirror_mode": {
    "name": "ipython",
    "version": 3
   },
   "file_extension": ".py",
   "mimetype": "text/x-python",
   "name": "python",
   "nbconvert_exporter": "python",
   "pygments_lexer": "ipython3",
   "version": "3.12.4"
  }
 },
 "nbformat": 4,
 "nbformat_minor": 2
}
